{
 "cells": [
  {
   "cell_type": "code",
   "execution_count": 91,
   "metadata": {},
   "outputs": [],
   "source": [
    "import selenium\n",
    "from selenium.webdriver.common.by import By\n",
    "from selenium import webdriver\n",
    "import time\n",
    "\n",
    "from wordcloud import WordCloud\n",
    "import matplotlib.pyplot as plt\n",
    "from collections import Counter\n",
    "from konlpy.tag import Okt\n",
    "from PIL import Image\n",
    "import numpy as np"
   ]
  },
  {
   "cell_type": "code",
   "execution_count": 92,
   "metadata": {},
   "outputs": [],
   "source": [
    "driver = webdriver.Chrome()\n",
    "url = 'https://movie.naver.com/movie/sdb/rank/rmovie.naver'\n",
    "driver.get(url)"
   ]
  },
  {
   "cell_type": "code",
   "execution_count": 93,
   "metadata": {},
   "outputs": [],
   "source": [
    "result = {}\n",
    "list_ranking = driver.find_element(By.CLASS_NAME, 'list_ranking')\n",
    "tds = list_ranking.find_elements(By.CLASS_NAME, 'tit3')"
   ]
  },
  {
   "cell_type": "code",
   "execution_count": 94,
   "metadata": {},
   "outputs": [],
   "source": [
    "# 영화 제목, 링크 딕셔너리 저장\n",
    "for td in tds:\n",
    "    a = td.find_element(By.TAG_NAME, 'a')\n",
    "    href = a.get_attribute('href')\n",
    "    title = a.get_attribute('title')\n",
    "    result[title] = href"
   ]
  },
  {
   "cell_type": "code",
   "execution_count": 95,
   "metadata": {},
   "outputs": [],
   "source": [
    "# 영화 리스트에 있는 링크들 하나하나 열기\n",
    "# for key in result.keys():\n",
    "#     link = result[key]\n",
    "#     driver.get(link)\n",
    "#     time.sleep(1)"
   ]
  },
  {
   "cell_type": "code",
   "execution_count": 96,
   "metadata": {},
   "outputs": [],
   "source": [
    "# 영화 올빼미 창 열기\n",
    "# driver.get(result['올빼미'])"
   ]
  },
  {
   "cell_type": "code",
   "execution_count": 97,
   "metadata": {},
   "outputs": [],
   "source": [
    "# 영화 1위 창 열기\n",
    "first_movie = list(result.values())[0]\n",
    "driver.get(first_movie)"
   ]
  },
  {
   "cell_type": "code",
   "execution_count": 98,
   "metadata": {},
   "outputs": [],
   "source": [
    "# 평점 창 열기\n",
    "driver.find_element(By.XPATH, '//*[@id=\"movieEndTabMenu\"]/li[5]').click()"
   ]
  },
  {
   "cell_type": "code",
   "execution_count": 99,
   "metadata": {},
   "outputs": [],
   "source": [
    "# 리뷰 iframe 창 열기\n",
    "iframe = driver.find_element(By.ID,'pointAfterListIframe')\n",
    "frame_src = iframe.get_attribute('src')\n",
    "driver.get(frame_src)"
   ]
  },
  {
   "cell_type": "code",
   "execution_count": 100,
   "metadata": {},
   "outputs": [],
   "source": [
    "# 스포일러 체크가 안되어 있을 경우 스포일러 보기 체크.\n",
    "spoiler_YN = driver.find_element(By.ID, 'spoilerYnCheckBox')\n",
    "if spoiler_YN.get_attribute('class') == 'blind ':\n",
    "    driver.find_element(By.ID, 'spoilerYnLable').click()"
   ]
  },
  {
   "cell_type": "code",
   "execution_count": 101,
   "metadata": {},
   "outputs": [],
   "source": [
    "# 댓글 최신순 클릭\n",
    "newst = driver.find_element(By.XPATH, '//*[@id=\"orderCheckbox\"]/ul[1]/li[2]/a').click()"
   ]
  },
  {
   "cell_type": "code",
   "execution_count": 102,
   "metadata": {},
   "outputs": [],
   "source": [
    "current_url = driver.current_url"
   ]
  },
  {
   "cell_type": "code",
   "execution_count": 125,
   "metadata": {},
   "outputs": [],
   "source": [
    "ems = driver.find_elements(By.TAG_NAME, 'em')\n",
    "next_page = ems[-1].text\n",
    "if next_page == '다음' :\n",
    "    ems[-1].click()"
   ]
  },
  {
   "cell_type": "code",
   "execution_count": null,
   "metadata": {},
   "outputs": [],
   "source": [
    "reple_list = []\n",
    "\n",
    "max_page = 20\n",
    "for i in range(1,max_page):\n",
    "    driver.get(current_url + f'&page={i}')\n",
    "    # 댓글 가져와 리스트에 넣기\n",
    "    reples = driver.find_elements(By.CLASS_NAME, 'score_reple')\n",
    "    for reple in reples:\n",
    "        reple_spans = reple.find_elements(By.TAG_NAME, 'span')\n",
    "        # span 클래스명이 ico_viewer 일 경우 제외\n",
    "        if reple_spans[0].get_attribute('class') == 'ico_viewer':\n",
    "            reple_list.append(reple_spans[1].text)\n",
    "        else:\n",
    "            reple_list.append(reple_spans[0].text)"
   ]
  },
  {
   "cell_type": "code",
   "execution_count": 104,
   "metadata": {},
   "outputs": [],
   "source": [
    "reple_text = ' '.join(reple_list)"
   ]
  },
  {
   "cell_type": "code",
   "execution_count": 105,
   "metadata": {},
   "outputs": [],
   "source": [
    "with open('reple.txt', 'w') as f:\n",
    "    f.write(reple_text)"
   ]
  },
  {
   "cell_type": "code",
   "execution_count": 106,
   "metadata": {},
   "outputs": [],
   "source": [
    "okt = Okt()\n",
    "nouns = okt.nouns(reple_text)\n"
   ]
  },
  {
   "cell_type": "code",
   "execution_count": 107,
   "metadata": {},
   "outputs": [],
   "source": [
    "for i in nouns:\n",
    "    if i == '상미':\n",
    "        nouns.remove(i)\n",
    "        nouns.append('영상미')"
   ]
  },
  {
   "cell_type": "code",
   "execution_count": null,
   "metadata": {},
   "outputs": [],
   "source": [
    "words = [n for n in nouns if len(n) > 1]\n",
    "\n",
    "\n",
    "c = Counter(words)\n",
    "c\n"
   ]
  },
  {
   "cell_type": "code",
   "execution_count": 120,
   "metadata": {},
   "outputs": [
    {
     "name": "stdout",
     "output_type": "stream",
     "text": [
      "다음\n",
      "\n",
      "\n",
      "904\n",
      "10\n",
      "chl2****\n",
      "2022.12.14 22:56\n",
      "신고\n",
      "4\n",
      "김희준(kimh****)\n",
      "2022.12.14 22:40\n",
      "신고\n",
      "10\n",
      "ppl(ppll****)\n",
      "2022.12.14 22:39\n",
      "신고\n",
      "6\n",
      "박해성(phs1****)\n",
      "2022.12.14 22:30\n",
      "신고\n",
      "10\n",
      "짜앙(dele****)\n",
      "2022.12.14 22:23\n",
      "신고\n",
      "10\n",
      "댕댕이당(cje1****)\n",
      "2022.12.14 22:19\n",
      "신고\n",
      "5\n",
      "TonyStark(broo****)\n",
      "2022.12.14 22:13\n",
      "신고\n",
      "10\n",
      "이우석(swee****)\n",
      "2022.12.14 21:49\n",
      "신고\n",
      "10\n",
      "여러가지계정(shro****)\n",
      "2022.12.14 21:41\n",
      "신고\n",
      "10\n",
      "star****\n",
      "2022.12.14 21:40\n",
      "신고\n",
      "이전\n",
      "다음\n"
     ]
    }
   ],
   "source": []
  }
 ],
 "metadata": {
  "kernelspec": {
   "display_name": "base",
   "language": "python",
   "name": "python3"
  },
  "language_info": {
   "codemirror_mode": {
    "name": "ipython",
    "version": 3
   },
   "file_extension": ".py",
   "mimetype": "text/x-python",
   "name": "python",
   "nbconvert_exporter": "python",
   "pygments_lexer": "ipython3",
   "version": "3.9.13"
  },
  "orig_nbformat": 4,
  "vscode": {
   "interpreter": {
    "hash": "84d195b30c694fe4ae1884be17d3715c5087ed99072d12a214f8b38b341755f9"
   }
  }
 },
 "nbformat": 4,
 "nbformat_minor": 2
}
