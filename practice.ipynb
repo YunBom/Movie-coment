{
 "cells": [
  {
   "cell_type": "code",
   "execution_count": 2,
   "metadata": {},
   "outputs": [],
   "source": [
    "import selenium\n",
    "from selenium.webdriver.common.by import By\n",
    "from selenium import webdriver\n",
    "import time"
   ]
  },
  {
   "cell_type": "code",
   "execution_count": 3,
   "metadata": {},
   "outputs": [],
   "source": [
    "driver = webdriver.Chrome()\n",
    "url = 'https://movie.naver.com/movie/sdb/rank/rmovie.naver?sel=cur&date=20221217'\n",
    "driver.get(url)"
   ]
  },
  {
   "cell_type": "code",
   "execution_count": 4,
   "metadata": {},
   "outputs": [],
   "source": [
    "result = {}\n",
    "list_ranking = driver.find_element(By.CLASS_NAME, 'list_ranking')\n",
    "tds = list_ranking.find_elements(By.CLASS_NAME, 'tit5')"
   ]
  },
  {
   "cell_type": "code",
   "execution_count": 5,
   "metadata": {},
   "outputs": [],
   "source": [
    "# 영화 제목, 링크 딕셔너리 저장\n",
    "for td in tds:\n",
    "    a = td.find_element(By.TAG_NAME, 'a')\n",
    "    href = a.get_attribute('href')\n",
    "    title = a.get_attribute('title')\n",
    "    result[title] = href"
   ]
  },
  {
   "cell_type": "code",
   "execution_count": 6,
   "metadata": {},
   "outputs": [],
   "source": [
    "# 영화 리스트에 있는 링크들 하나하나 열기\n",
    "# for key in result.keys():\n",
    "#     link = result[key]\n",
    "#     driver.get(link)\n",
    "#     time.sleep(1)"
   ]
  },
  {
   "cell_type": "code",
   "execution_count": 7,
   "metadata": {},
   "outputs": [],
   "source": [
    "# 영화 올빼미 창 열기\n",
    "driver.get(result['올빼미'])"
   ]
  },
  {
   "cell_type": "code",
   "execution_count": 8,
   "metadata": {},
   "outputs": [],
   "source": [
    "# 평점 창 열기\n",
    "driver.find_element(By.XPATH, '//*[@id=\"movieEndTabMenu\"]/li[5]').click()"
   ]
  },
  {
   "cell_type": "code",
   "execution_count": 9,
   "metadata": {},
   "outputs": [],
   "source": [
    "# 리뷰 iframe 창 열기\n",
    "iframe = driver.find_element(By.ID,'pointAfterListIframe')\n",
    "frame_src = iframe.get_attribute('src')\n",
    "driver.get(frame_src)"
   ]
  },
  {
   "cell_type": "code",
   "execution_count": 11,
   "metadata": {},
   "outputs": [],
   "source": [
    "# 스포일러 보기\n",
    "spoiler = driver.find_element(By.ID, 'spoilerYnLable').click()"
   ]
  }
 ],
 "metadata": {
  "kernelspec": {
   "display_name": "Python 3",
   "language": "python",
   "name": "python3"
  },
  "language_info": {
   "codemirror_mode": {
    "name": "ipython",
    "version": 3
   },
   "file_extension": ".py",
   "mimetype": "text/x-python",
   "name": "python",
   "nbconvert_exporter": "python",
   "pygments_lexer": "ipython3",
   "version": "3.11.0"
  },
  "orig_nbformat": 4,
  "vscode": {
   "interpreter": {
    "hash": "39cf8fd06e0ed46fde681d64c459dd0a8696ebe7f424cafe1b9edd0d2ab1fe97"
   }
  }
 },
 "nbformat": 4,
 "nbformat_minor": 2
}
