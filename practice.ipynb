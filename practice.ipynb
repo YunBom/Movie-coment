{
 "cells": [
  {
   "cell_type": "code",
   "execution_count": 4,
   "metadata": {},
   "outputs": [],
   "source": [
    "import selenium\n",
    "from selenium.webdriver.common.by import By\n",
    "from selenium import webdriver"
   ]
  },
  {
   "cell_type": "code",
   "execution_count": 6,
   "metadata": {},
   "outputs": [],
   "source": [
    "driver = webdriver.Chrome()\n",
    "url = 'https://movie.naver.com/movie/sdb/rank/rmovie.naver?sel=cur&date=20221217'\n",
    "driver.get(url)"
   ]
  },
  {
   "cell_type": "code",
   "execution_count": 7,
   "metadata": {},
   "outputs": [],
   "source": [
    "result = {}"
   ]
  },
  {
   "cell_type": "code",
   "execution_count": 8,
   "metadata": {},
   "outputs": [],
   "source": [
    "list_ranking = driver.find_element(By.CLASS_NAME, 'list_ranking')\n",
    "tds = list_ranking.find_elements(By.CLASS_NAME, 'tit5')"
   ]
  },
  {
   "cell_type": "code",
   "execution_count": 9,
   "metadata": {},
   "outputs": [],
   "source": [
    "# 영화 제목, 링크 딕셔너리 저장\n",
    "for td in tds:\n",
    "    a = td.find_element(By.TAG_NAME, 'a')\n",
    "    href = a.get_attribute('href')\n",
    "    title = a.get_attribute('title')\n",
    "    result[title] = href"
   ]
  },
  {
   "cell_type": "code",
   "execution_count": 10,
   "metadata": {},
   "outputs": [],
   "source": [
    "import time"
   ]
  },
  {
   "cell_type": "code",
   "execution_count": 11,
   "metadata": {},
   "outputs": [
    {
     "ename": "KeyboardInterrupt",
     "evalue": "",
     "output_type": "error",
     "traceback": [
      "\u001b[1;31m---------------------------------------------------------------------------\u001b[0m",
      "\u001b[1;31mKeyboardInterrupt\u001b[0m                         Traceback (most recent call last)",
      "Cell \u001b[1;32mIn[11], line 4\u001b[0m\n\u001b[0;32m      2\u001b[0m link \u001b[39m=\u001b[39m result[key]\n\u001b[0;32m      3\u001b[0m driver\u001b[39m.\u001b[39mget(link)\n\u001b[1;32m----> 4\u001b[0m time\u001b[39m.\u001b[39;49msleep(\u001b[39m1\u001b[39;49m)\n",
      "\u001b[1;31mKeyboardInterrupt\u001b[0m: "
     ]
    }
   ],
   "source": [
    "# 영화 리스트에 있는 링크들 하나하나 열기\n",
    "for key in result.keys():\n",
    "    link = result[key]\n",
    "    driver.get(link)\n",
    "    time.sleep(1)"
   ]
  },
  {
   "cell_type": "code",
   "execution_count": 12,
   "metadata": {},
   "outputs": [],
   "source": [
    "# 영화 올빼미 창 열기\n",
    "driver.get(result['올빼미'])"
   ]
  },
  {
   "cell_type": "code",
   "execution_count": 13,
   "metadata": {},
   "outputs": [],
   "source": [
    "driver.find_element(By.XPATH, '//*[@id=\"movieEndTabMenu\"]/li[5]').click()"
   ]
  },
  {
   "cell_type": "code",
   "execution_count": 14,
   "metadata": {},
   "outputs": [
    {
     "ename": "InvalidSelectorException",
     "evalue": "Message: invalid selector: An invalid or illegal selector was specified\n  (Session info: chrome=108.0.5359.125)\nStacktrace:\nBacktrace:\n\tOrdinal0 [0x004D8CE3+2067683]\n\tOrdinal0 [0x0046CBC1+1625025]\n\tOrdinal0 [0x0036B7CD+571341]\n\tOrdinal0 [0x0036E384+582532]\n\tOrdinal0 [0x0036E235+582197]\n\tOrdinal0 [0x0036E4D0+582864]\n\tOrdinal0 [0x0039A9C2+764354]\n\tOrdinal0 [0x0039AE3B+765499]\n\tOrdinal0 [0x003CD122+971042]\n\tOrdinal0 [0x003B7384+881540]\n\tOrdinal0 [0x003CB576+963958]\n\tOrdinal0 [0x003B7156+880982]\n\tOrdinal0 [0x0038FF1D+720669]\n\tOrdinal0 [0x00390F5F+724831]\n\tGetHandleVerifier [0x0078F162+2771330]\n\tGetHandleVerifier [0x00781145+2713957]\n\tGetHandleVerifier [0x0056CC0A+533546]\n\tGetHandleVerifier [0x0056B970+528784]\n\tOrdinal0 [0x00474F4C+1658700]\n\tOrdinal0 [0x004798B8+1677496]\n\tOrdinal0 [0x004799A5+1677733]\n\tOrdinal0 [0x00484CC4+1723588]\n\tBaseThreadInitThunk [0x753C7D69+25]\n\tRtlInitializeExceptionChain [0x7740BB9B+107]\n\tRtlClearBits [0x7740BB1F+191]\n",
     "output_type": "error",
     "traceback": [
      "\u001b[1;31m---------------------------------------------------------------------------\u001b[0m",
      "\u001b[1;31mInvalidSelectorException\u001b[0m                  Traceback (most recent call last)",
      "Cell \u001b[1;32mIn[14], line 1\u001b[0m\n\u001b[1;32m----> 1\u001b[0m score_result \u001b[39m=\u001b[39m driver\u001b[39m.\u001b[39;49mfind_element(By\u001b[39m.\u001b[39;49mCLASS_NAME, \u001b[39m'\u001b[39;49m\u001b[39mscore_result`\u001b[39;49m\u001b[39m'\u001b[39;49m)\n",
      "File \u001b[1;32mc:\\Users\\BomYi\\AppData\\Local\\Programs\\Python\\Python311\\Lib\\site-packages\\selenium\\webdriver\\remote\\webdriver.py:861\u001b[0m, in \u001b[0;36mWebDriver.find_element\u001b[1;34m(self, by, value)\u001b[0m\n\u001b[0;32m    858\u001b[0m     by \u001b[39m=\u001b[39m By\u001b[39m.\u001b[39mCSS_SELECTOR\n\u001b[0;32m    859\u001b[0m     value \u001b[39m=\u001b[39m \u001b[39m'\u001b[39m\u001b[39m[name=\u001b[39m\u001b[39m\"\u001b[39m\u001b[39m%s\u001b[39;00m\u001b[39m\"\u001b[39m\u001b[39m]\u001b[39m\u001b[39m'\u001b[39m \u001b[39m%\u001b[39m value\n\u001b[1;32m--> 861\u001b[0m \u001b[39mreturn\u001b[39;00m \u001b[39mself\u001b[39;49m\u001b[39m.\u001b[39;49mexecute(Command\u001b[39m.\u001b[39;49mFIND_ELEMENT, {\u001b[39m\"\u001b[39;49m\u001b[39musing\u001b[39;49m\u001b[39m\"\u001b[39;49m: by, \u001b[39m\"\u001b[39;49m\u001b[39mvalue\u001b[39;49m\u001b[39m\"\u001b[39;49m: value})[\u001b[39m\"\u001b[39m\u001b[39mvalue\u001b[39m\u001b[39m\"\u001b[39m]\n",
      "File \u001b[1;32mc:\\Users\\BomYi\\AppData\\Local\\Programs\\Python\\Python311\\Lib\\site-packages\\selenium\\webdriver\\remote\\webdriver.py:444\u001b[0m, in \u001b[0;36mWebDriver.execute\u001b[1;34m(self, driver_command, params)\u001b[0m\n\u001b[0;32m    442\u001b[0m response \u001b[39m=\u001b[39m \u001b[39mself\u001b[39m\u001b[39m.\u001b[39mcommand_executor\u001b[39m.\u001b[39mexecute(driver_command, params)\n\u001b[0;32m    443\u001b[0m \u001b[39mif\u001b[39;00m response:\n\u001b[1;32m--> 444\u001b[0m     \u001b[39mself\u001b[39;49m\u001b[39m.\u001b[39;49merror_handler\u001b[39m.\u001b[39;49mcheck_response(response)\n\u001b[0;32m    445\u001b[0m     response[\u001b[39m\"\u001b[39m\u001b[39mvalue\u001b[39m\u001b[39m\"\u001b[39m] \u001b[39m=\u001b[39m \u001b[39mself\u001b[39m\u001b[39m.\u001b[39m_unwrap_value(response\u001b[39m.\u001b[39mget(\u001b[39m\"\u001b[39m\u001b[39mvalue\u001b[39m\u001b[39m\"\u001b[39m, \u001b[39mNone\u001b[39;00m))\n\u001b[0;32m    446\u001b[0m     \u001b[39mreturn\u001b[39;00m response\n",
      "File \u001b[1;32mc:\\Users\\BomYi\\AppData\\Local\\Programs\\Python\\Python311\\Lib\\site-packages\\selenium\\webdriver\\remote\\errorhandler.py:249\u001b[0m, in \u001b[0;36mErrorHandler.check_response\u001b[1;34m(self, response)\u001b[0m\n\u001b[0;32m    247\u001b[0m         alert_text \u001b[39m=\u001b[39m value[\u001b[39m\"\u001b[39m\u001b[39malert\u001b[39m\u001b[39m\"\u001b[39m]\u001b[39m.\u001b[39mget(\u001b[39m\"\u001b[39m\u001b[39mtext\u001b[39m\u001b[39m\"\u001b[39m)\n\u001b[0;32m    248\u001b[0m     \u001b[39mraise\u001b[39;00m exception_class(message, screen, stacktrace, alert_text)  \u001b[39m# type: ignore[call-arg]  # mypy is not smart enough here\u001b[39;00m\n\u001b[1;32m--> 249\u001b[0m \u001b[39mraise\u001b[39;00m exception_class(message, screen, stacktrace)\n",
      "\u001b[1;31mInvalidSelectorException\u001b[0m: Message: invalid selector: An invalid or illegal selector was specified\n  (Session info: chrome=108.0.5359.125)\nStacktrace:\nBacktrace:\n\tOrdinal0 [0x004D8CE3+2067683]\n\tOrdinal0 [0x0046CBC1+1625025]\n\tOrdinal0 [0x0036B7CD+571341]\n\tOrdinal0 [0x0036E384+582532]\n\tOrdinal0 [0x0036E235+582197]\n\tOrdinal0 [0x0036E4D0+582864]\n\tOrdinal0 [0x0039A9C2+764354]\n\tOrdinal0 [0x0039AE3B+765499]\n\tOrdinal0 [0x003CD122+971042]\n\tOrdinal0 [0x003B7384+881540]\n\tOrdinal0 [0x003CB576+963958]\n\tOrdinal0 [0x003B7156+880982]\n\tOrdinal0 [0x0038FF1D+720669]\n\tOrdinal0 [0x00390F5F+724831]\n\tGetHandleVerifier [0x0078F162+2771330]\n\tGetHandleVerifier [0x00781145+2713957]\n\tGetHandleVerifier [0x0056CC0A+533546]\n\tGetHandleVerifier [0x0056B970+528784]\n\tOrdinal0 [0x00474F4C+1658700]\n\tOrdinal0 [0x004798B8+1677496]\n\tOrdinal0 [0x004799A5+1677733]\n\tOrdinal0 [0x00484CC4+1723588]\n\tBaseThreadInitThunk [0x753C7D69+25]\n\tRtlInitializeExceptionChain [0x7740BB9B+107]\n\tRtlClearBits [0x7740BB1F+191]\n"
     ]
    }
   ],
   "source": [
    "score_result = driver.find_element(By.CLASS_NAME, 'score_result`')"
   ]
  },
  {
   "cell_type": "code",
   "execution_count": 72,
   "metadata": {},
   "outputs": [
    {
     "data": {
      "text/plain": [
       "[<selenium.webdriver.remote.webelement.WebElement (session=\"bf5e63bda6e4ff7b11d36a5b0d49a9bf\", element=\"8672a11b-3691-4f4b-8f55-6e9c835f850b\")>]"
      ]
     },
     "execution_count": 72,
     "metadata": {},
     "output_type": "execute_result"
    }
   ],
   "source": [
    "driver.find_elements(By.CLASS_NAME, 'score_result')"
   ]
  },
  {
   "cell_type": "code",
   "execution_count": 58,
   "metadata": {},
   "outputs": [],
   "source": [
    "lis = score_result.find_elements(By.TAG_NAME, 'li')"
   ]
  },
  {
   "cell_type": "code",
   "execution_count": 61,
   "metadata": {},
   "outputs": [
    {
     "data": {
      "text/plain": [
       "'빨려들도록 흥미롭지만 자제력이 아쉽네\\n씨네21\\n| 박평식'"
      ]
     },
     "execution_count": 61,
     "metadata": {},
     "output_type": "execute_result"
    }
   ],
   "source": [
    "lis[0].find_element(By.CLASS_NAME, 'score_reple').text"
   ]
  }
 ],
 "metadata": {
  "kernelspec": {
   "display_name": "Python 3",
   "language": "python",
   "name": "python3"
  },
  "language_info": {
   "codemirror_mode": {
    "name": "ipython",
    "version": 3
   },
   "file_extension": ".py",
   "mimetype": "text/x-python",
   "name": "python",
   "nbconvert_exporter": "python",
   "pygments_lexer": "ipython3",
   "version": "3.11.0"
  },
  "orig_nbformat": 4,
  "vscode": {
   "interpreter": {
    "hash": "39cf8fd06e0ed46fde681d64c459dd0a8696ebe7f424cafe1b9edd0d2ab1fe97"
   }
  }
 },
 "nbformat": 4,
 "nbformat_minor": 2
}
